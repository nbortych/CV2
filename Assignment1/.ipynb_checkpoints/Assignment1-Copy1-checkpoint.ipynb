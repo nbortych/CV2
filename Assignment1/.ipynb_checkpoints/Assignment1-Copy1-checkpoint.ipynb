{
 "cells": [
  {
   "cell_type": "code",
   "execution_count": 82,
   "metadata": {},
   "outputs": [],
   "source": [
    "import numpy as np\n",
    "from scipy.io import loadmat\n",
    "import open3d\n",
    "import scipy\n",
    "from scipy.spatial import distance\n",
    "\n",
    "def affine_transform(pc, R, t):\n",
    "    return np.array([R.dot(a)+t for a in pc])\n",
    "    \n",
    "def backgroun_removal(a_1):\n",
    "    valid_bool_1 = (a_1[:,2])<1\n",
    "   \n",
    "    a_1 = a_1[valid_bool_1]\n",
    "   \n",
    "    return a_1\n",
    "\n",
    "def rigid_motion(p,q):\n",
    "    \"\"\"\n",
    "    Least-Squares Rigid Motion Using Singular Value Decomposition. \n",
    "    (https://igl.ethz.ch/projects/ARAP/svd_rot.pdf) \n",
    "    \n",
    "    (note: so far only for the easy case, where all weights are = 1)\n",
    "    \n",
    "    p,q: shape [num_points, 3]\n",
    "    \n",
    "    \"\"\"\n",
    "    n,d = p.shape\n",
    "    \n",
    "    # compute centroids\n",
    "    p_cen = sum(p)/len(p)\n",
    "    q_cen = sum(q)/len(q)\n",
    "    \n",
    "    # compute centered vectors\n",
    "    X = np.array([i-p_cen for i in p])\n",
    "    Y = np.array([i-q_cen for i in q])\n",
    "    \n",
    "    # compute covariance matrix \n",
    "    W = np.eye(n)\n",
    "    S =  X.T.dot(W).dot(Y)\n",
    "    \n",
    "    # compute sigular value decomposition\n",
    "    U, _, V = np.linalg.svd(S)\n",
    "    \n",
    "    # compute optimal R and t\n",
    "    M = np.eye(d)\n",
    "    M[-1,-1] = np.linalg.det(V.T.dot(U.T))\n",
    "    R = V.T.dot(M).dot(U.T)\n",
    "    \n",
    "    t = q_cen - R.dot(p_cen)\n",
    "    \n",
    "    return R, t\n",
    "\n",
    "def rms_error(p, q):\n",
    "    n = p.shape[0]\n",
    "    dist = [distance.euclidean(p[i,:], q[i,:]) for i in range(n)]\n",
    "    return np.sqrt(np.sum(np.power(dist, 2))/n)\n",
    "\n",
    "def show_fitting_result(pcds_list):\n",
    "    \n",
    "    point_clouds_object_list = []\n",
    "    pc = open3d.PointCloud()\n",
    "    for i, pcd in enumerate(pcds_list):\n",
    "        point_clouds_object_list.append(open3d.PointCloud())\n",
    "        point_clouds_object_list[i].points = open3d.Vector3dVector(pcd)\n",
    "    \n",
    "    open3d.draw_geometries(point_clouds_object_list)\n",
    "\n",
    "def informative_subsampling(orig_pointcloud, normals, sample_size):\n",
    "    # convert normals to angular space\n",
    "    b = np.sqrt(normals[:,0]**2+normals[:,1]**2)\n",
    "    x = np.arctan2(normals[:,1], normals[:,0])\n",
    "    y = np.arctan2(normals[:,2], b)\n",
    "    \n",
    "    # devide normals over bins\n",
    "    bins = np.linspace(-np.pi, np.pi, sample_size) \n",
    "    x_index = np.digitize(x, bins, right=True)\n",
    "    y_index = np.digitize(y, bins, right=True)\n",
    "    index = x_index * sample_size + y_index\n",
    "\n",
    "    # \n",
    "    unique_index, origin_index = np.unique(index, return_index=True)\n",
    "    sample = np.random.choice(unique_index.shape[0], sample_size, replace=False)\n",
    "    sample_index = origin_index[sample]\n",
    "    \n",
    "    # return only the found sample indecis of the original pointcloud\n",
    "    return orig_pointcloud[sample_index, :]\n",
    "\n",
    "    \n",
    "def icp(a_1, a_2, n_1, n_2, convergence_treshold=0.005, point_selection=\"all\", sample_size=500, generate_3d = True, verbose = True, is_test = False , accuracy_check = False, stability_constant = 1):\n",
    "    \"\"\"\n",
    "    a_1: positions of points in point cloud 1. shape : [num_points1, 3]\n",
    "    a_2: positions of points in point cloud 2. shape : [num_points2, 3]\n",
    "    n_1: normals a_1\n",
    "    n_2: normals a_2\n",
    "    \"\"\"\n",
    "    \n",
    "    if is_test:\n",
    "        generate_3d = False\n",
    "        verbose = False\n",
    "    n,d = a_1.shape\n",
    "    \n",
    "    a_2_c = a_2.copy()\n",
    "    \n",
    "    # Filter the point clouds based on the depth,\n",
    "    # only keep the indices where the z of the point cloud is less than 1\n",
    "    a_1, a_2 = backgroun_removal(a_1), backgroun_removal(a_2)\n",
    "    n_1, n_2 = backgroun_removal(n_1), backgroun_removal(n_2)\n",
    "\n",
    "    # Point selection\n",
    "    # Uniform subsampling\n",
    "    if point_selection == \"uniform\":\n",
    "        a_1 = a_1[np.random.randint(low=0, high=a_1.shape[0], size=sample_size)]\n",
    "        a_2 = a_2[np.random.randint(low=0, high=a_2.shape[0], size=sample_size)]\n",
    "        \n",
    "    if point_selection == \"informative\":\n",
    "        a_1 = informative_subsampling(a_1, n_1, sample_size)\n",
    "        a_2 = informative_subsampling(a_2, n_2, sample_size)\n",
    "    \n",
    "    if stability_constant == 1 :\n",
    "        R_overall = np.eye(d)\n",
    "        t_overall = np.zeros(d)\n",
    "    else:\n",
    "        R_overall = np.random.normal(0,1, size = (d,d))*stability_constant\n",
    "        t_overall = np.random.normal(0,1, size = d)*stability_constant\n",
    "    \n",
    "    # Base loop on difference in rsm error\n",
    "    rms_error_old = 10000\n",
    "    rms_error_new = rms_error_old-1\n",
    "    \n",
    "    while rms_error_old-rms_error_new > convergence_treshold:\n",
    "        \n",
    "        if point_selection == \"random\":\n",
    "            a_1 = a_1[np.random.choice(a_1.shape[0], sample_size, replace=False), :]\n",
    "            a_2 = a_2[np.random.choice(a_2.shape[0], sample_size, replace=False), :]\n",
    "            \n",
    "        # (Step 1) Find closest points for each point in a_1 from a_2\n",
    "        tree = scipy.spatial.KDTree(a_2)\n",
    "        closest_dists, closest_idx = tree.query(a_1)\n",
    "        # Found this on stackoverflow: https://bit.ly/2P8IYiw\n",
    "        # Not sure if we can use this, but it is definetely much (!!) faster \n",
    "        # than manually comparing all the vectors.\n",
    "        # Usage also proposed on Wikipedia: https://bit.ly/2urg9nU\n",
    "        # For how-to-use see: https://bit.ly/2UbKNfn\n",
    "        closest_a_2 = a_2[closest_idx]\n",
    "    \n",
    "        # (Step 2) Refine R and t using Singular Value Decomposition\n",
    "        R, t = rigid_motion(a_1,closest_a_2)\n",
    "       \n",
    "        # update a_1\n",
    "        a_1 =affine_transform(a_1, R, t)\n",
    "        \n",
    "        # update rms error\n",
    "        rms_error_old = rms_error_new\n",
    "        rms_error_new = rms_error(a_1, closest_a_2)\n",
    "        \n",
    "        if verbose:\n",
    "            print(rms_error_new)\n",
    "        \n",
    "        # update overall R and t\n",
    "        R_overall = R.dot(R_overall)\n",
    "        t_overall = R.dot(t_overall) + t\n",
    "    if generate_3d:\n",
    "        show_fitting_result([a_1, a_2_c])\n",
    "    if accuracy_check:\n",
    "        return rms_error_new\n",
    "    return R_overall, t_overall\n",
    "    "
   ]
  },
  {
   "cell_type": "code",
   "execution_count": 83,
   "metadata": {},
   "outputs": [],
   "source": [
    "# print(\"Load a ply point cloud, print it, and render it\")\n",
    "# pcd1  = open3d.read_point_cloud(\"Data/data/0000000000.pcd\")\n",
    "# pcd2  = open3d.read_point_cloud(\"Data/data/0000000001.pcd\")\n",
    "# print(np.asarray(pcd.points))\n",
    "# open3d.draw_geometries([pcd])\n",
    "#a_1 = loadmat(\"Data/source.mat\")[\"source\"].T\n",
    "#a_2 = loadmat(\"Data/target.mat\")[\"target\"].T\n",
    "\n",
    "a_1 = open3d.read_point_cloud(\"Data/data/0000000000.pcd\")\n",
    "a_2 = open3d.read_point_cloud(\"Data/data/0000000001.pcd\")\n",
    "\n",
    "a_1 = np.asarray(a_1.points)\n",
    "a_2 = np.asarray(a_2.points)\n",
    "\n",
    "n_1 = open3d.read_point_cloud(\"Data/data/0000000000_normal.pcd\", format='xyz')\n",
    "n_2 = open3d.read_point_cloud(\"Data/data/0000000001_normal.pcd\", format='xyz')\n",
    "\n",
    "n_1 = np.asarray(n_1.points)\n",
    "n_2 = np.asarray(n_2.points)"
   ]
  },
  {
   "cell_type": "code",
   "execution_count": 84,
   "metadata": {},
   "outputs": [
    {
     "data": {
      "text/plain": [
       "(array([[ 9.99073101e-01,  3.14270400e-03, -4.29309117e-02],\n",
       "        [-3.18256597e-03,  9.99994566e-01, -8.60198920e-04],\n",
       "        [ 4.29279750e-02,  9.96032061e-04,  9.99077673e-01]]),\n",
       " array([ 0.03883579,  0.00028556, -0.00096337]))"
      ]
     },
     "execution_count": 84,
     "metadata": {},
     "output_type": "execute_result"
    }
   ],
   "source": [
    "# test icp\n",
    "icp(a_1 = a_1, a_2 = a_2, n_1=n_1, n_2=n_2, point_selection = 'informative', is_test = True)"
   ]
  },
  {
   "cell_type": "code",
   "execution_count": 85,
   "metadata": {},
   "outputs": [],
   "source": [
    "sampling_methods = ['random', 'uniform', 'default', 'informative']"
   ]
  },
  {
   "cell_type": "code",
   "execution_count": 86,
   "metadata": {},
   "outputs": [
    {
     "name": "stdout",
     "output_type": "stream",
     "text": [
      "Time that it takes for random method is:\n",
      "CPU times: user 287 ms, sys: 12.7 ms, total: 300 ms\n",
      "Wall time: 266 ms\n",
      "Time that it takes for uniform method is:\n",
      "CPU times: user 298 ms, sys: 9.61 ms, total: 308 ms\n",
      "Wall time: 264 ms\n",
      "Time that it takes for default method is:\n",
      "CPU times: user 1min 54s, sys: 52.8 s, total: 2min 47s\n",
      "Wall time: 1min 57s\n",
      "Time that it takes for informative method is:\n",
      "CPU times: user 338 ms, sys: 21.2 ms, total: 359 ms\n",
      "Wall time: 283 ms\n"
     ]
    }
   ],
   "source": [
    "def speed_check(a_1, a_2, sampling_methods):\n",
    "    for method in sampling_methods:\n",
    "        print(\"Time that it takes for {} method is:\".format(method))\n",
    "        %time  icp(a_1, a_2, n_1, n_2, point_selection = method, is_test = True)\n",
    "speed_check(a_1, a_2, sampling_methods)"
   ]
  },
  {
   "cell_type": "code",
   "execution_count": 87,
   "metadata": {
    "scrolled": true
   },
   "outputs": [
    {
     "name": "stdout",
     "output_type": "stream",
     "text": [
      "RMSE of random method is 0.01291\n",
      "RMSE of uniform method is 0.01301\n",
      "RMSE of default method is 0.002179\n",
      "RMSE of informative method is 0.01225\n"
     ]
    }
   ],
   "source": [
    "def accuracy_check(a_1, a_2, sampling_methods):\n",
    "    for method in sampling_methods:\n",
    "        print(\"RMSE of {} method is {:.4}\".format(method, icp(a_1, a_2, n_1, n_2, point_selection = method, is_test = True, accuracy_check = True)))\n",
    "accuracy_check(a_1, a_2, sampling_methods)\n",
    "    "
   ]
  },
  {
   "cell_type": "code",
   "execution_count": 88,
   "metadata": {},
   "outputs": [
    {
     "ename": "ValueError",
     "evalue": "operands could not be broadcast together with shapes (68742,3) (68655,3) ",
     "output_type": "error",
     "traceback": [
      "\u001b[0;31m---------------------------------------------------------------------------\u001b[0m",
      "\u001b[0;31mValueError\u001b[0m                                Traceback (most recent call last)",
      "\u001b[0;32m<ipython-input-88-60ee33634867>\u001b[0m in \u001b[0;36m<module>\u001b[0;34m\u001b[0m\n\u001b[1;32m     12\u001b[0m \u001b[0;34m\u001b[0m\u001b[0m\n\u001b[1;32m     13\u001b[0m \u001b[0;34m\u001b[0m\u001b[0m\n\u001b[0;32m---> 14\u001b[0;31m \u001b[0mnoise_check\u001b[0m\u001b[0;34m(\u001b[0m\u001b[0ma_1\u001b[0m\u001b[0;34m,\u001b[0m \u001b[0ma_2\u001b[0m\u001b[0;34m,\u001b[0m \u001b[0msampling_methods\u001b[0m\u001b[0;34m)\u001b[0m\u001b[0;34m\u001b[0m\u001b[0;34m\u001b[0m\u001b[0m\n\u001b[0m\u001b[1;32m     15\u001b[0m \u001b[0;34m\u001b[0m\u001b[0m\n",
      "\u001b[0;32m<ipython-input-88-60ee33634867>\u001b[0m in \u001b[0;36mnoise_check\u001b[0;34m(a_1, a_2, sampling_methods)\u001b[0m\n\u001b[1;32m      1\u001b[0m \u001b[0;32mdef\u001b[0m  \u001b[0mnoise_check\u001b[0m\u001b[0;34m(\u001b[0m\u001b[0ma_1\u001b[0m\u001b[0;34m,\u001b[0m \u001b[0ma_2\u001b[0m\u001b[0;34m,\u001b[0m \u001b[0msampling_methods\u001b[0m\u001b[0;34m)\u001b[0m\u001b[0;34m:\u001b[0m\u001b[0;34m\u001b[0m\u001b[0;34m\u001b[0m\u001b[0m\n\u001b[1;32m      2\u001b[0m     \u001b[0mnoise_1\u001b[0m\u001b[0;34m,\u001b[0m \u001b[0mnoise_2\u001b[0m \u001b[0;34m=\u001b[0m \u001b[0mnp\u001b[0m\u001b[0;34m.\u001b[0m\u001b[0mrandom\u001b[0m\u001b[0;34m.\u001b[0m\u001b[0mnormal\u001b[0m\u001b[0;34m(\u001b[0m\u001b[0;36m0\u001b[0m\u001b[0;34m,\u001b[0m\u001b[0;36m1\u001b[0m\u001b[0;34m,\u001b[0m\u001b[0;34m(\u001b[0m\u001b[0ma_2\u001b[0m\u001b[0;34m.\u001b[0m\u001b[0mshape\u001b[0m\u001b[0;34m)\u001b[0m\u001b[0;34m)\u001b[0m \u001b[0;34m,\u001b[0m\u001b[0mnp\u001b[0m\u001b[0;34m.\u001b[0m\u001b[0mrandom\u001b[0m\u001b[0;34m.\u001b[0m\u001b[0mnormal\u001b[0m\u001b[0;34m(\u001b[0m\u001b[0;36m0\u001b[0m\u001b[0;34m,\u001b[0m\u001b[0;36m1\u001b[0m\u001b[0;34m,\u001b[0m\u001b[0;34m(\u001b[0m\u001b[0ma_2\u001b[0m\u001b[0;34m.\u001b[0m\u001b[0mshape\u001b[0m\u001b[0;34m)\u001b[0m\u001b[0;34m)\u001b[0m\u001b[0;34m\u001b[0m\u001b[0;34m\u001b[0m\u001b[0m\n\u001b[0;32m----> 3\u001b[0;31m     \u001b[0ma_1_noisy\u001b[0m\u001b[0;34m,\u001b[0m \u001b[0ma_2_noisy\u001b[0m \u001b[0;34m=\u001b[0m \u001b[0ma_1\u001b[0m \u001b[0;34m+\u001b[0m \u001b[0mnoise_1\u001b[0m \u001b[0;34m,\u001b[0m \u001b[0ma_2\u001b[0m \u001b[0;34m+\u001b[0m \u001b[0mnoise_2\u001b[0m\u001b[0;34m\u001b[0m\u001b[0;34m\u001b[0m\u001b[0m\n\u001b[0m\u001b[1;32m      4\u001b[0m     \u001b[0;32mfor\u001b[0m \u001b[0mmethod\u001b[0m \u001b[0;32min\u001b[0m \u001b[0msampling_methods\u001b[0m\u001b[0;34m:\u001b[0m\u001b[0;34m\u001b[0m\u001b[0;34m\u001b[0m\u001b[0m\n\u001b[1;32m      5\u001b[0m         \u001b[0mrmse_normal\u001b[0m \u001b[0;34m=\u001b[0m\u001b[0micp\u001b[0m\u001b[0;34m(\u001b[0m\u001b[0ma_1\u001b[0m\u001b[0;34m,\u001b[0m \u001b[0ma_2\u001b[0m\u001b[0;34m,\u001b[0m \u001b[0mn_1\u001b[0m\u001b[0;34m,\u001b[0m \u001b[0mn_2\u001b[0m\u001b[0;34m,\u001b[0m \u001b[0mpoint_selection\u001b[0m \u001b[0;34m=\u001b[0m \u001b[0mmethod\u001b[0m\u001b[0;34m,\u001b[0m \u001b[0mis_test\u001b[0m \u001b[0;34m=\u001b[0m \u001b[0;32mTrue\u001b[0m\u001b[0;34m,\u001b[0m \u001b[0maccuracy_check\u001b[0m \u001b[0;34m=\u001b[0m \u001b[0;32mTrue\u001b[0m\u001b[0;34m)\u001b[0m\u001b[0;34m\u001b[0m\u001b[0;34m\u001b[0m\u001b[0m\n",
      "\u001b[0;31mValueError\u001b[0m: operands could not be broadcast together with shapes (68742,3) (68655,3) "
     ]
    }
   ],
   "source": [
    "def  noise_check(a_1, a_2, sampling_methods):\n",
    "    noise_1, noise_2 = np.random.normal(0,1,(a_2.shape)) ,np.random.normal(0,1,(a_2.shape))\n",
    "    a_1_noisy, a_2_noisy = a_1 + noise_1 , a_2 + noise_2\n",
    "    for method in sampling_methods:\n",
    "        rmse_normal =icp(a_1, a_2, n_1, n_2, point_selection = method, is_test = True, accuracy_check = True) \n",
    "        rmse_noisy = icp(a_1_noisy, a_2_noisy, n_1, n_2, point_selection = method, is_test = True, accuracy_check = True)\n",
    "        print(\"RMSE of {} method is {:.4}, whereas if we add noise, it becomes {:.4} , the difference is {:.4}\".format(method, rmse_normal, rmse_noisy, rmse_normal - rmse_noisy))\n",
    "        R_normal , t_normal = icp(a_1, a_2, n_1, n_2, point_selection = method, is_test = True) \n",
    "        R_noisy , t_noisy = icp(a_1_noisy, a_2_noisy, n_1, n_2, point_selection = method, is_test = True) \n",
    "        R_distance, t_distance = np.linalg.norm(R_normal - R_noisy), np.linalg.norm(t_normal - t_noisy)\n",
    "        print(\"The distance between normal and noisy R matrices is {:.4} and between normal and noisy t vectors is {:.4}\".format(R_distance, t_distance))\n",
    "        \n",
    "\n",
    "noise_check(a_1, a_2, sampling_methods)\n",
    "    "
   ]
  },
  {
   "cell_type": "code",
   "execution_count": 89,
   "metadata": {},
   "outputs": [
    {
     "name": "stdout",
     "output_type": "stream",
     "text": [
      "RMSE of random method is 0.01244, whereas if we have random initialisation, it becomes 0.01243 , the difference is 1.353e-05\n",
      "The distance between normal and randomely initialised R matrices is 22.45 and between normal and randomely initialised t vectors is 23.52\n",
      "RMSE of uniform method is 0.01237, whereas if we have random initialisation, it becomes 0.01189 , the difference is 0.0004832\n",
      "The distance between normal and randomely initialised R matrices is 27.89 and between normal and randomely initialised t vectors is 11.84\n",
      "RMSE of default method is 0.002179, whereas if we have random initialisation, it becomes 0.002179 , the difference is 0.0\n",
      "The distance between normal and randomely initialised R matrices is 22.67 and between normal and randomely initialised t vectors is 17.89\n",
      "RMSE of informative method is 0.01125, whereas if we have random initialisation, it becomes 0.01291 , the difference is -0.001664\n",
      "The distance between normal and randomely initialised R matrices is 21.46 and between normal and randomely initialised t vectors is 12.84\n"
     ]
    }
   ],
   "source": [
    "def  stability_check(a_1, a_2, sampling_methods):\n",
    "    stability_constant = 10\n",
    "    for method in sampling_methods:\n",
    "        rmse_normal =icp(a_1, a_2, n_1, n_2, point_selection = method, is_test = True, accuracy_check = True) \n",
    "        rmse_non_stable= icp(a_1, a_2, n_1, n_2, point_selection = method, is_test = True, accuracy_check = True, stability_constant = stability_constant)\n",
    "        print(\"RMSE of {} method is {:.4}, whereas if we have random initialisation, it becomes {:.4} , the difference is {:.4}\".format(method, rmse_normal, rmse_non_stable, rmse_normal - rmse_non_stable))\n",
    "        R_normal , t_normal = icp(a_1, a_2, n_1, n_2, point_selection = method, is_test = True) \n",
    "        R_non_stable , t_non_stable = icp(a_1, a_2, n_1, n_2, point_selection = method, is_test = True, stability_constant = stability_constant) \n",
    "        R_distance, t_distance = np.linalg.norm(R_normal - R_non_stable), np.linalg.norm(t_normal - t_non_stable)\n",
    "        print(\"The distance between normal and randomely initialised R matrices is {:.4} and between normal and randomely initialised t vectors is {:.4}\".format(R_distance, t_distance))\n",
    "        \n",
    "\n",
    "stability_check(a_1, a_2, sampling_methods)\n",
    "    "
   ]
  },
  {
   "cell_type": "markdown",
   "metadata": {},
   "source": [
    "Note: Take stability as an example, an experimental setup may be the following: given a source point cloud, augmented target point cloud can be obtained by transforming the source point cloud using a random rigid transform R and t. Stability can be analyzed by observing a behaviour of ICP on source and augmented target point cloud w.r.t changes in magnitude of R and t.\n",
    "        "
   ]
  },
  {
   "cell_type": "markdown",
   "metadata": {},
   "source": [
    "- stability is about convergence of the algorithm dependent on initial condition.\n",
    "\n",
    "- tolerance to noise is about convergence of the algorithm with input data with noise. You can imagine data is captured by a sensor. In the ideal case you will obtain exact point cloud, however sensor is not precise, therefore there will be noise in measurement. Therefore we ask you to evaluate how ICP is robust against those kind of issuses."
   ]
  },
  {
   "cell_type": "code",
   "execution_count": null,
   "metadata": {},
   "outputs": [],
   "source": [
    "\n",
    "#merging scenes\n",
    "#icp(a_1, a_2, is_test = True)\n",
    "#pcd1  = open3d.read_point_cloud(\"Data/data/0000000000.pcd\")\n",
    "#pcd2  = open3d.read_point_cloud(\"Data/data/0000000001.pcd\")\n",
    "max_images = 99\n",
    "def merge_one_after_another(data_directory = \"Data/data/\", point_selection = 'random', max_images = 99):\n",
    "    print(\"Load a ply point cloud, print it, and render it\")\n",
    "    \n",
    "    pcds= []\n",
    "    for i in range(max_images+1):\n",
    "        if i<10:\n",
    "            pcds.append(open3d.read_point_cloud(\"{}000000000{}.pcd\".format(data_directory, i)).points)\n",
    "        else:\n",
    "            pcds.append(open3d.read_point_cloud(\"{}00000000{}.pcd\".format(data_directory, i)).points)\n",
    "    pcds = list(map(np.asarray, pcds))\n",
    "    \n",
    "    R_list,  t_list = [], []\n",
    "    for i in range(len(pcds)-1):\n",
    "        R, t = icp(pcds[i], pcds[i+1], is_test = True, point_selection = point_selection)\n",
    "        R_list.append(R)\n",
    "        t_list.append(t)\n",
    "    \n",
    "    pcds = list(map(backgroun_removal, pcds))\n",
    "    pcds_transformed = []\n",
    "    \n",
    "    for i in range(len(pcds)-1):\n",
    "        pcds_transformed.append(affine_transform(pcds[i], R_list[i], t_list[i]))\n",
    "\n",
    "        \n",
    "    \n",
    "    show_fitting_result(pcds_transformed)\n",
    "merge_one_after_another(data_directory = \"Data/data/\", point_selection = 'random', max_images = 99)"
   ]
  },
  {
   "cell_type": "code",
   "execution_count": null,
   "metadata": {},
   "outputs": [],
   "source": []
  }
 ],
 "metadata": {
  "kernelspec": {
   "display_name": "Python 3",
   "language": "python",
   "name": "python3"
  },
  "language_info": {
   "codemirror_mode": {
    "name": "ipython",
    "version": 3
   },
   "file_extension": ".py",
   "mimetype": "text/x-python",
   "name": "python",
   "nbconvert_exporter": "python",
   "pygments_lexer": "ipython3",
   "version": "3.7.2"
  }
 },
 "nbformat": 4,
 "nbformat_minor": 2
}
