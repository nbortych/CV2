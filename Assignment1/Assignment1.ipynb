{
 "cells": [
  {
   "cell_type": "code",
   "execution_count": 142,
   "metadata": {},
   "outputs": [],
   "source": [
    "import numpy as np\n",
    "from scipy.io import loadmat\n",
    "import open3d\n",
    "import scipy\n",
    "from scipy.spatial import distance\n",
    "from open3d import geometry\n",
    "\n",
    "def affine_transform(pc, R, t):\n",
    "    return np.array([R.dot(a)+t for a in pc])\n",
    "    \n",
    "def background_removal(a_1):\n",
    "    #geometry.statistical_outlier_removal(input, nb_neighbors, std_ratio)\n",
    "    #a_1_point_cloud = open3d.PointCloud()\n",
    "    #a_1_point_cloud.points = open3d.Vector3dVector(a_1)\n",
    "    #valid_int = geometry.statistical_outlier_removal(a_1_point_cloud, 200, 0.001)\n",
    "    valid_int = (a_1[:,2])<1\n",
    "    a_1 = a_1[valid_int]\n",
    "    \n",
    "    return a_1\n",
    "\n",
    "def rigid_motion(p,q):\n",
    "    \"\"\"\n",
    "    Least-Squares Rigid Motion Using Singular Value Decomposition. \n",
    "    (https://igl.ethz.ch/projects/ARAP/svd_rot.pdf) \n",
    "    \n",
    "    (note: so far only for the easy case, where all weights are = 1)\n",
    "    \n",
    "    p,q: shape [num_points, 3]\n",
    "    \n",
    "    \"\"\"\n",
    "    n,d = p.shape\n",
    "    \n",
    "    # compute centroids\n",
    "    p_cen = sum(p)/len(p)\n",
    "    q_cen = sum(q)/len(q)\n",
    "    \n",
    "    # compute centered vectors\n",
    "    X = np.array([i-p_cen for i in p])\n",
    "    Y = np.array([i-q_cen for i in q])\n",
    "    \n",
    "    # compute covariance matrix \n",
    "    W = np.eye(n)\n",
    "    S =  X.T.dot(W).dot(Y)\n",
    "    \n",
    "    # compute sigular value decomposition\n",
    "    U, _, V = np.linalg.svd(S)\n",
    "    \n",
    "    # compute optimal R and t\n",
    "    M = np.eye(d)\n",
    "    M[-1,-1] = np.linalg.det(V.T.dot(U.T))\n",
    "    R = V.T.dot(M).dot(U.T)\n",
    "    \n",
    "    t = q_cen - R.dot(p_cen)\n",
    "    \n",
    "    return R, t\n",
    "\n",
    "def rms_error(p, q):\n",
    "    n = p.shape[0]\n",
    "    dist = [distance.euclidean(p[i,:], q[i,:]) for i in range(n)]\n",
    "    return np.sqrt(np.sum(np.power(dist, 2))/n)\n",
    "\n",
    "def show_fitting_result(pcds_list):\n",
    "    \n",
    "    point_clouds_object_list = []\n",
    "    pc = open3d.PointCloud()\n",
    "    for i, pcd in enumerate(pcds_list):\n",
    "        point_clouds_object_list.append(open3d.PointCloud())\n",
    "        point_clouds_object_list[i].points = open3d.Vector3dVector(pcd)\n",
    "    \n",
    "    open3d.draw_geometries(point_clouds_object_list)\n",
    "\"\"\"\n",
    "def informative_subsampling(file):\n",
    "    img = cv2.imread(file)\n",
    "    gray = cv2.cvtColor(img, cv2.COLOR_BGR2GRAY)\n",
    "    \n",
    "    kaze = cv2.KAZE_create()\n",
    "    kps = kaze.detect(img)\n",
    "    \n",
    "    print(len(kps))\n",
    "    \n",
    "    # Do something with normals of the images to get either the coordinates or points in pointcloud\n",
    "    \n",
    "    return\n",
    "\n",
    "\"\"\"    \n",
    "def icp(a_1, a_2, convergence_treshold=0.005, point_selection=\"all\", sample_size=3000, generate_3d = True, verbose = True, is_test = False , accuracy_check = False, stability_constant = 1,source_file=None , target_file=None):\n",
    "    \"\"\"\n",
    "    a_1: positions of points in point cloud 1. shape : [num_points1, 3]\n",
    "    a_2: positions of points in point cloud 2. shape : [num_points2, 3]\n",
    "    \n",
    "    \"\"\"\n",
    "    \n",
    "    if is_test:\n",
    "        generate_3d = False\n",
    "        verbose = False\n",
    "    n,d = a_1.shape\n",
    "    \n",
    "    \n",
    "    \n",
    "    # Filter the point clouds based on the depth,\n",
    "    # only keep the indices where the z of the point cloud is less than 1\n",
    "    a_1, a_2 = background_removal(a_1), background_removal(a_2)\n",
    "    \n",
    "    a_2_c = a_2.copy()\n",
    "    # Point selection\n",
    "    # Uniform subsampling\n",
    "    if point_selection == \"uniform\":\n",
    "        a_1 = a_1[np.random.randint(low=0, high=a_1.shape[0], size=sample_size)]\n",
    "        a_2 = a_2[np.random.randint(low=0, high=a_2.shape[0], size=sample_size)]\n",
    "        \n",
    "    if point_selection == \"informative\":\n",
    "        a_1 = informative_subsampling(source_file)\n",
    "        a_2 = informative_subsampling(target_file)\n",
    "    \n",
    "    if stability_constant == 1 :\n",
    "        R_overall = np.eye(d)\n",
    "        t_overall = np.zeros(d)\n",
    "    else:\n",
    "        R_overall = np.random.normal(0,1, size = (d,d))*stability_constant\n",
    "        t_overall = np.random.normal(0,1, size = d)*stability_constant\n",
    "    \n",
    "    # Base loop on difference in rsm error\n",
    "    rms_error_old = 10000\n",
    "    rms_error_new = rms_error_old-1\n",
    "    \n",
    "    while rms_error_old-rms_error_new > convergence_treshold:\n",
    "        \n",
    "        if point_selection == \"random\":\n",
    "            a_1 = a_1[np.random.choice(a_1.shape[0], sample_size, replace=False), :]\n",
    "            a_2 = a_2[np.random.choice(a_2.shape[0], sample_size, replace=False), :]\n",
    "            \n",
    "        # (Step 1) Find closest points for each point in a_1 from a_2\n",
    "        tree = scipy.spatial.KDTree(a_2)\n",
    "        closest_dists, closest_idx = tree.query(a_1)\n",
    "        # Found this on stackoverflow: https://bit.ly/2P8IYiw\n",
    "        # Not sure if we can use this, but it is definetely much (!!) faster \n",
    "        # than manually comparing all the vectors.\n",
    "        # Usage also proposed on Wikipedia: https://bit.ly/2urg9nU\n",
    "        # For how-to-use see: https://bit.ly/2UbKNfn\n",
    "        closest_a_2 = a_2[closest_idx]\n",
    "    \n",
    "        # (Step 2) Refine R and t using Singular Value Decomposition\n",
    "        R, t = rigid_motion(a_1,closest_a_2)\n",
    "       \n",
    "        # update a_1\n",
    "        a_1 =affine_transform(a_1, R, t)\n",
    "        \n",
    "        # update rms error\n",
    "        rms_error_old = rms_error_new\n",
    "        rms_error_new = rms_error(a_1, closest_a_2)\n",
    "        \n",
    "        if verbose:\n",
    "            print(rms_error_new)\n",
    "        \n",
    "        # update overall R and t\n",
    "        R_overall = R.dot(R_overall)\n",
    "        t_overall = R.dot(t_overall) + t\n",
    "    if generate_3d:\n",
    "        show_fitting_result([a_1, a_2_c])\n",
    "    if accuracy_check:\n",
    "        return rms_error_new\n",
    "    return R_overall, t_overall\n",
    "    "
   ]
  },
  {
   "cell_type": "code",
   "execution_count": 57,
   "metadata": {},
   "outputs": [],
   "source": [
    "# print(\"Load a ply point cloud, print it, and render it\")\n",
    "# pcd1  = open3d.read_point_cloud(\"Data/data/0000000000.pcd\")\n",
    "# pcd2  = open3d.read_point_cloud(\"Data/data/0000000001.pcd\")\n",
    "# print(np.asarray(pcd.points))\n",
    "# open3d.draw_geometries([pcd])\n",
    "#a_1 = loadmat(\"Data/source.mat\")[\"source\"].T\n",
    "#a_2 = loadmat(\"Data/target.mat\")[\"target\"].T\n",
    "\n",
    "a_1 = open3d.read_point_cloud(\"Data/data/0000000000.pcd\")\n",
    "a_2 = open3d.read_point_cloud(\"Data/data/0000000002.pcd\")\n",
    "\n",
    "a_1 = np.asarray(a_1.points)\n",
    "a_2 = np.asarray(a_2.points)\n",
    "\n",
    "#source_file = \"Data/data/0000000000.jpg\"\n",
    "#target_file = \"Data/data/0000000001.jpg\""
   ]
  },
  {
   "cell_type": "code",
   "execution_count": 128,
   "metadata": {},
   "outputs": [
    {
     "data": {
      "text/plain": [
       "array([3])"
      ]
     },
     "execution_count": 128,
     "metadata": {},
     "output_type": "execute_result"
    }
   ],
   "source": [
    "t = np.array([1,2,3])\n",
    "p = t>2\n",
    "t[p]"
   ]
  },
  {
   "cell_type": "code",
   "execution_count": 133,
   "metadata": {},
   "outputs": [
    {
     "ename": "KeyboardInterrupt",
     "evalue": "",
     "output_type": "error",
     "traceback": [
      "\u001b[0;31m---------------------------------------------------------------------------\u001b[0m",
      "\u001b[0;31mKeyboardInterrupt\u001b[0m                         Traceback (most recent call last)",
      "\u001b[0;32m<ipython-input-133-7db2f0bf5b04>\u001b[0m in \u001b[0;36m<module>\u001b[0;34m()\u001b[0m\n\u001b[0;32m----> 1\u001b[0;31m \u001b[0micp\u001b[0m\u001b[0;34m(\u001b[0m\u001b[0ma_1\u001b[0m\u001b[0;34m,\u001b[0m \u001b[0ma_2\u001b[0m\u001b[0;34m,\u001b[0m \u001b[0mpoint_selection\u001b[0m \u001b[0;34m=\u001b[0m \u001b[0;34m'default'\u001b[0m\u001b[0;34m)\u001b[0m\u001b[0;34m\u001b[0m\u001b[0m\n\u001b[0m",
      "\u001b[0;32m<ipython-input-130-bfa2abc08494>\u001b[0m in \u001b[0;36micp\u001b[0;34m(a_1, a_2, convergence_treshold, point_selection, sample_size, generate_3d, verbose, is_test, accuracy_check, stability_constant, source_file, target_file)\u001b[0m\n\u001b[1;32m    134\u001b[0m         \u001b[0;31m# (Step 1) Find closest points for each point in a_1 from a_2\u001b[0m\u001b[0;34m\u001b[0m\u001b[0;34m\u001b[0m\u001b[0m\n\u001b[1;32m    135\u001b[0m         \u001b[0mtree\u001b[0m \u001b[0;34m=\u001b[0m \u001b[0mscipy\u001b[0m\u001b[0;34m.\u001b[0m\u001b[0mspatial\u001b[0m\u001b[0;34m.\u001b[0m\u001b[0mKDTree\u001b[0m\u001b[0;34m(\u001b[0m\u001b[0ma_2\u001b[0m\u001b[0;34m)\u001b[0m\u001b[0;34m\u001b[0m\u001b[0m\n\u001b[0;32m--> 136\u001b[0;31m         \u001b[0mclosest_dists\u001b[0m\u001b[0;34m,\u001b[0m \u001b[0mclosest_idx\u001b[0m \u001b[0;34m=\u001b[0m \u001b[0mtree\u001b[0m\u001b[0;34m.\u001b[0m\u001b[0mquery\u001b[0m\u001b[0;34m(\u001b[0m\u001b[0ma_1\u001b[0m\u001b[0;34m)\u001b[0m\u001b[0;34m\u001b[0m\u001b[0m\n\u001b[0m\u001b[1;32m    137\u001b[0m         \u001b[0;31m# Found this on stackoverflow: https://bit.ly/2P8IYiw\u001b[0m\u001b[0;34m\u001b[0m\u001b[0;34m\u001b[0m\u001b[0m\n\u001b[1;32m    138\u001b[0m         \u001b[0;31m# Not sure if we can use this, but it is definetely much (!!) faster\u001b[0m\u001b[0;34m\u001b[0m\u001b[0;34m\u001b[0m\u001b[0m\n",
      "\u001b[0;32m/Users/nikitabortych/anaconda/lib/python3.6/site-packages/scipy/spatial/kdtree.py\u001b[0m in \u001b[0;36mquery\u001b[0;34m(self, x, k, eps, p, distance_upper_bound)\u001b[0m\n\u001b[1;32m    504\u001b[0m                 \u001b[0;32mraise\u001b[0m \u001b[0mValueError\u001b[0m\u001b[0;34m(\u001b[0m\u001b[0;34m\"Requested %s nearest neighbors; acceptable numbers are integers greater than or equal to one, or None\"\u001b[0m\u001b[0;34m)\u001b[0m\u001b[0;34m\u001b[0m\u001b[0m\n\u001b[1;32m    505\u001b[0m             \u001b[0;32mfor\u001b[0m \u001b[0mc\u001b[0m \u001b[0;32min\u001b[0m \u001b[0mnp\u001b[0m\u001b[0;34m.\u001b[0m\u001b[0mndindex\u001b[0m\u001b[0;34m(\u001b[0m\u001b[0mretshape\u001b[0m\u001b[0;34m)\u001b[0m\u001b[0;34m:\u001b[0m\u001b[0;34m\u001b[0m\u001b[0m\n\u001b[0;32m--> 506\u001b[0;31m                 \u001b[0mhits\u001b[0m \u001b[0;34m=\u001b[0m \u001b[0mself\u001b[0m\u001b[0;34m.\u001b[0m\u001b[0m__query\u001b[0m\u001b[0;34m(\u001b[0m\u001b[0mx\u001b[0m\u001b[0;34m[\u001b[0m\u001b[0mc\u001b[0m\u001b[0;34m]\u001b[0m\u001b[0;34m,\u001b[0m \u001b[0mk\u001b[0m\u001b[0;34m=\u001b[0m\u001b[0mk\u001b[0m\u001b[0;34m,\u001b[0m \u001b[0meps\u001b[0m\u001b[0;34m=\u001b[0m\u001b[0meps\u001b[0m\u001b[0;34m,\u001b[0m \u001b[0mp\u001b[0m\u001b[0;34m=\u001b[0m\u001b[0mp\u001b[0m\u001b[0;34m,\u001b[0m \u001b[0mdistance_upper_bound\u001b[0m\u001b[0;34m=\u001b[0m\u001b[0mdistance_upper_bound\u001b[0m\u001b[0;34m)\u001b[0m\u001b[0;34m\u001b[0m\u001b[0m\n\u001b[0m\u001b[1;32m    507\u001b[0m                 \u001b[0;32mif\u001b[0m \u001b[0mk\u001b[0m \u001b[0;32mis\u001b[0m \u001b[0;32mNone\u001b[0m\u001b[0;34m:\u001b[0m\u001b[0;34m\u001b[0m\u001b[0m\n\u001b[1;32m    508\u001b[0m                     \u001b[0mdd\u001b[0m\u001b[0;34m[\u001b[0m\u001b[0mc\u001b[0m\u001b[0;34m]\u001b[0m \u001b[0;34m=\u001b[0m \u001b[0;34m[\u001b[0m\u001b[0md\u001b[0m \u001b[0;32mfor\u001b[0m \u001b[0;34m(\u001b[0m\u001b[0md\u001b[0m\u001b[0;34m,\u001b[0m\u001b[0mi\u001b[0m\u001b[0;34m)\u001b[0m \u001b[0;32min\u001b[0m \u001b[0mhits\u001b[0m\u001b[0;34m]\u001b[0m\u001b[0;34m\u001b[0m\u001b[0m\n",
      "\u001b[0;32m/Users/nikitabortych/anaconda/lib/python3.6/site-packages/scipy/spatial/kdtree.py\u001b[0m in \u001b[0;36m__query\u001b[0;34m(self, x, k, eps, p, distance_upper_bound)\u001b[0m\n\u001b[1;32m    353\u001b[0m                 \u001b[0;31m# brute-force\u001b[0m\u001b[0;34m\u001b[0m\u001b[0;34m\u001b[0m\u001b[0m\n\u001b[1;32m    354\u001b[0m                 \u001b[0mdata\u001b[0m \u001b[0;34m=\u001b[0m \u001b[0mself\u001b[0m\u001b[0;34m.\u001b[0m\u001b[0mdata\u001b[0m\u001b[0;34m[\u001b[0m\u001b[0mnode\u001b[0m\u001b[0;34m.\u001b[0m\u001b[0midx\u001b[0m\u001b[0;34m]\u001b[0m\u001b[0;34m\u001b[0m\u001b[0m\n\u001b[0;32m--> 355\u001b[0;31m                 \u001b[0mds\u001b[0m \u001b[0;34m=\u001b[0m \u001b[0mminkowski_distance_p\u001b[0m\u001b[0;34m(\u001b[0m\u001b[0mdata\u001b[0m\u001b[0;34m,\u001b[0m\u001b[0mx\u001b[0m\u001b[0;34m[\u001b[0m\u001b[0mnp\u001b[0m\u001b[0;34m.\u001b[0m\u001b[0mnewaxis\u001b[0m\u001b[0;34m,\u001b[0m\u001b[0;34m:\u001b[0m\u001b[0;34m]\u001b[0m\u001b[0;34m,\u001b[0m\u001b[0mp\u001b[0m\u001b[0;34m)\u001b[0m\u001b[0;34m\u001b[0m\u001b[0m\n\u001b[0m\u001b[1;32m    356\u001b[0m                 \u001b[0;32mfor\u001b[0m \u001b[0mi\u001b[0m \u001b[0;32min\u001b[0m \u001b[0mrange\u001b[0m\u001b[0;34m(\u001b[0m\u001b[0mlen\u001b[0m\u001b[0;34m(\u001b[0m\u001b[0mds\u001b[0m\u001b[0;34m)\u001b[0m\u001b[0;34m)\u001b[0m\u001b[0;34m:\u001b[0m\u001b[0;34m\u001b[0m\u001b[0m\n\u001b[1;32m    357\u001b[0m                     \u001b[0;32mif\u001b[0m \u001b[0mds\u001b[0m\u001b[0;34m[\u001b[0m\u001b[0mi\u001b[0m\u001b[0;34m]\u001b[0m \u001b[0;34m<\u001b[0m \u001b[0mdistance_upper_bound\u001b[0m\u001b[0;34m:\u001b[0m\u001b[0;34m\u001b[0m\u001b[0m\n",
      "\u001b[0;32m/Users/nikitabortych/anaconda/lib/python3.6/site-packages/scipy/spatial/kdtree.py\u001b[0m in \u001b[0;36mminkowski_distance_p\u001b[0;34m(x, y, p)\u001b[0m\n\u001b[1;32m     44\u001b[0m         \u001b[0;32mreturn\u001b[0m \u001b[0mnp\u001b[0m\u001b[0;34m.\u001b[0m\u001b[0msum\u001b[0m\u001b[0;34m(\u001b[0m\u001b[0mnp\u001b[0m\u001b[0;34m.\u001b[0m\u001b[0mabs\u001b[0m\u001b[0;34m(\u001b[0m\u001b[0my\u001b[0m\u001b[0;34m-\u001b[0m\u001b[0mx\u001b[0m\u001b[0;34m)\u001b[0m\u001b[0;34m,\u001b[0m \u001b[0maxis\u001b[0m\u001b[0;34m=\u001b[0m\u001b[0;34m-\u001b[0m\u001b[0;36m1\u001b[0m\u001b[0;34m)\u001b[0m\u001b[0;34m\u001b[0m\u001b[0m\n\u001b[1;32m     45\u001b[0m     \u001b[0;32melse\u001b[0m\u001b[0;34m:\u001b[0m\u001b[0;34m\u001b[0m\u001b[0m\n\u001b[0;32m---> 46\u001b[0;31m         \u001b[0;32mreturn\u001b[0m \u001b[0mnp\u001b[0m\u001b[0;34m.\u001b[0m\u001b[0msum\u001b[0m\u001b[0;34m(\u001b[0m\u001b[0mnp\u001b[0m\u001b[0;34m.\u001b[0m\u001b[0mabs\u001b[0m\u001b[0;34m(\u001b[0m\u001b[0my\u001b[0m\u001b[0;34m-\u001b[0m\u001b[0mx\u001b[0m\u001b[0;34m)\u001b[0m\u001b[0;34m**\u001b[0m\u001b[0mp\u001b[0m\u001b[0;34m,\u001b[0m \u001b[0maxis\u001b[0m\u001b[0;34m=\u001b[0m\u001b[0;34m-\u001b[0m\u001b[0;36m1\u001b[0m\u001b[0;34m)\u001b[0m\u001b[0;34m\u001b[0m\u001b[0m\n\u001b[0m\u001b[1;32m     47\u001b[0m \u001b[0;34m\u001b[0m\u001b[0m\n\u001b[1;32m     48\u001b[0m \u001b[0;34m\u001b[0m\u001b[0m\n",
      "\u001b[0;31mKeyboardInterrupt\u001b[0m: "
     ]
    }
   ],
   "source": [
    "icp(a_1, a_2, point_selection = 'default')"
   ]
  },
  {
   "cell_type": "code",
   "execution_count": 9,
   "metadata": {},
   "outputs": [],
   "source": [
    "sampling_methods = ['random', 'uniform', 'default']#, \"informative\"]"
   ]
  },
  {
   "cell_type": "code",
   "execution_count": 134,
   "metadata": {},
   "outputs": [
    {
     "name": "stdout",
     "output_type": "stream",
     "text": [
      "Time that it takes for random method is:\n",
      "CPU times: user 534 ms, sys: 14 ms, total: 548 ms\n",
      "Wall time: 463 ms\n",
      "Time that it takes for uniform method is:\n",
      "CPU times: user 709 ms, sys: 9.3 ms, total: 718 ms\n",
      "Wall time: 469 ms\n",
      "Time that it takes for default method is:\n",
      "CPU times: user 2min 4s, sys: 1min 1s, total: 3min 6s\n",
      "Wall time: 2min 45s\n"
     ]
    }
   ],
   "source": [
    "def speed_check(a_1, a_2, sampling_methods):\n",
    "    for method in sampling_methods:\n",
    "        print(\"Time that it takes for {} method is:\".format(method))\n",
    "        %time  icp(a_1, a_2, point_selection = method, is_test = True)\n",
    "speed_check(a_1, a_2, sampling_methods)"
   ]
  },
  {
   "cell_type": "code",
   "execution_count": 135,
   "metadata": {},
   "outputs": [
    {
     "name": "stdout",
     "output_type": "stream",
     "text": [
      "RMSE of random method is 0.01259\n",
      "RMSE of uniform method is 0.01247\n"
     ]
    },
    {
     "ename": "KeyboardInterrupt",
     "evalue": "",
     "output_type": "error",
     "traceback": [
      "\u001b[0;31m---------------------------------------------------------------------------\u001b[0m",
      "\u001b[0;31mKeyboardInterrupt\u001b[0m                         Traceback (most recent call last)",
      "\u001b[0;32m<ipython-input-135-d19322a51d75>\u001b[0m in \u001b[0;36m<module>\u001b[0;34m()\u001b[0m\n\u001b[1;32m      2\u001b[0m     \u001b[0;32mfor\u001b[0m \u001b[0mmethod\u001b[0m \u001b[0;32min\u001b[0m \u001b[0msampling_methods\u001b[0m\u001b[0;34m:\u001b[0m\u001b[0;34m\u001b[0m\u001b[0m\n\u001b[1;32m      3\u001b[0m         \u001b[0mprint\u001b[0m\u001b[0;34m(\u001b[0m\u001b[0;34m\"RMSE of {} method is {:.4}\"\u001b[0m\u001b[0;34m.\u001b[0m\u001b[0mformat\u001b[0m\u001b[0;34m(\u001b[0m\u001b[0mmethod\u001b[0m\u001b[0;34m,\u001b[0m \u001b[0micp\u001b[0m\u001b[0;34m(\u001b[0m\u001b[0ma_1\u001b[0m\u001b[0;34m,\u001b[0m \u001b[0ma_2\u001b[0m\u001b[0;34m,\u001b[0m \u001b[0mpoint_selection\u001b[0m \u001b[0;34m=\u001b[0m \u001b[0mmethod\u001b[0m\u001b[0;34m,\u001b[0m \u001b[0mis_test\u001b[0m \u001b[0;34m=\u001b[0m \u001b[0;32mTrue\u001b[0m\u001b[0;34m,\u001b[0m \u001b[0maccuracy_check\u001b[0m \u001b[0;34m=\u001b[0m \u001b[0;32mTrue\u001b[0m\u001b[0;34m)\u001b[0m\u001b[0;34m)\u001b[0m\u001b[0;34m)\u001b[0m\u001b[0;34m\u001b[0m\u001b[0m\n\u001b[0;32m----> 4\u001b[0;31m \u001b[0maccuracy_check\u001b[0m\u001b[0;34m(\u001b[0m\u001b[0ma_1\u001b[0m\u001b[0;34m,\u001b[0m \u001b[0ma_2\u001b[0m\u001b[0;34m,\u001b[0m \u001b[0msampling_methods\u001b[0m\u001b[0;34m)\u001b[0m\u001b[0;34m\u001b[0m\u001b[0m\n\u001b[0m\u001b[1;32m      5\u001b[0m \u001b[0;34m\u001b[0m\u001b[0m\n",
      "\u001b[0;32m<ipython-input-135-d19322a51d75>\u001b[0m in \u001b[0;36maccuracy_check\u001b[0;34m(a_1, a_2, sampling_methods)\u001b[0m\n\u001b[1;32m      1\u001b[0m \u001b[0;32mdef\u001b[0m \u001b[0maccuracy_check\u001b[0m\u001b[0;34m(\u001b[0m\u001b[0ma_1\u001b[0m\u001b[0;34m,\u001b[0m \u001b[0ma_2\u001b[0m\u001b[0;34m,\u001b[0m \u001b[0msampling_methods\u001b[0m\u001b[0;34m)\u001b[0m\u001b[0;34m:\u001b[0m\u001b[0;34m\u001b[0m\u001b[0m\n\u001b[1;32m      2\u001b[0m     \u001b[0;32mfor\u001b[0m \u001b[0mmethod\u001b[0m \u001b[0;32min\u001b[0m \u001b[0msampling_methods\u001b[0m\u001b[0;34m:\u001b[0m\u001b[0;34m\u001b[0m\u001b[0m\n\u001b[0;32m----> 3\u001b[0;31m         \u001b[0mprint\u001b[0m\u001b[0;34m(\u001b[0m\u001b[0;34m\"RMSE of {} method is {:.4}\"\u001b[0m\u001b[0;34m.\u001b[0m\u001b[0mformat\u001b[0m\u001b[0;34m(\u001b[0m\u001b[0mmethod\u001b[0m\u001b[0;34m,\u001b[0m \u001b[0micp\u001b[0m\u001b[0;34m(\u001b[0m\u001b[0ma_1\u001b[0m\u001b[0;34m,\u001b[0m \u001b[0ma_2\u001b[0m\u001b[0;34m,\u001b[0m \u001b[0mpoint_selection\u001b[0m \u001b[0;34m=\u001b[0m \u001b[0mmethod\u001b[0m\u001b[0;34m,\u001b[0m \u001b[0mis_test\u001b[0m \u001b[0;34m=\u001b[0m \u001b[0;32mTrue\u001b[0m\u001b[0;34m,\u001b[0m \u001b[0maccuracy_check\u001b[0m \u001b[0;34m=\u001b[0m \u001b[0;32mTrue\u001b[0m\u001b[0;34m)\u001b[0m\u001b[0;34m)\u001b[0m\u001b[0;34m)\u001b[0m\u001b[0;34m\u001b[0m\u001b[0m\n\u001b[0m\u001b[1;32m      4\u001b[0m \u001b[0maccuracy_check\u001b[0m\u001b[0;34m(\u001b[0m\u001b[0ma_1\u001b[0m\u001b[0;34m,\u001b[0m \u001b[0ma_2\u001b[0m\u001b[0;34m,\u001b[0m \u001b[0msampling_methods\u001b[0m\u001b[0;34m)\u001b[0m\u001b[0;34m\u001b[0m\u001b[0m\n\u001b[1;32m      5\u001b[0m \u001b[0;34m\u001b[0m\u001b[0m\n",
      "\u001b[0;32m<ipython-input-130-bfa2abc08494>\u001b[0m in \u001b[0;36micp\u001b[0;34m(a_1, a_2, convergence_treshold, point_selection, sample_size, generate_3d, verbose, is_test, accuracy_check, stability_constant, source_file, target_file)\u001b[0m\n\u001b[1;32m    143\u001b[0m \u001b[0;34m\u001b[0m\u001b[0m\n\u001b[1;32m    144\u001b[0m         \u001b[0;31m# (Step 2) Refine R and t using Singular Value Decomposition\u001b[0m\u001b[0;34m\u001b[0m\u001b[0;34m\u001b[0m\u001b[0m\n\u001b[0;32m--> 145\u001b[0;31m         \u001b[0mR\u001b[0m\u001b[0;34m,\u001b[0m \u001b[0mt\u001b[0m \u001b[0;34m=\u001b[0m \u001b[0mrigid_motion\u001b[0m\u001b[0;34m(\u001b[0m\u001b[0ma_1\u001b[0m\u001b[0;34m,\u001b[0m\u001b[0mclosest_a_2\u001b[0m\u001b[0;34m)\u001b[0m\u001b[0;34m\u001b[0m\u001b[0m\n\u001b[0m\u001b[1;32m    146\u001b[0m \u001b[0;34m\u001b[0m\u001b[0m\n\u001b[1;32m    147\u001b[0m         \u001b[0;31m# update a_1\u001b[0m\u001b[0;34m\u001b[0m\u001b[0;34m\u001b[0m\u001b[0m\n",
      "\u001b[0;32m<ipython-input-130-bfa2abc08494>\u001b[0m in \u001b[0;36mrigid_motion\u001b[0;34m(p, q)\u001b[0m\n\u001b[1;32m     43\u001b[0m     \u001b[0;31m# compute covariance matrix\u001b[0m\u001b[0;34m\u001b[0m\u001b[0;34m\u001b[0m\u001b[0m\n\u001b[1;32m     44\u001b[0m     \u001b[0mW\u001b[0m \u001b[0;34m=\u001b[0m \u001b[0mnp\u001b[0m\u001b[0;34m.\u001b[0m\u001b[0meye\u001b[0m\u001b[0;34m(\u001b[0m\u001b[0mn\u001b[0m\u001b[0;34m)\u001b[0m\u001b[0;34m\u001b[0m\u001b[0m\n\u001b[0;32m---> 45\u001b[0;31m     \u001b[0mS\u001b[0m \u001b[0;34m=\u001b[0m  \u001b[0mX\u001b[0m\u001b[0;34m.\u001b[0m\u001b[0mT\u001b[0m\u001b[0;34m.\u001b[0m\u001b[0mdot\u001b[0m\u001b[0;34m(\u001b[0m\u001b[0mW\u001b[0m\u001b[0;34m)\u001b[0m\u001b[0;34m.\u001b[0m\u001b[0mdot\u001b[0m\u001b[0;34m(\u001b[0m\u001b[0mY\u001b[0m\u001b[0;34m)\u001b[0m\u001b[0;34m\u001b[0m\u001b[0m\n\u001b[0m\u001b[1;32m     46\u001b[0m \u001b[0;34m\u001b[0m\u001b[0m\n\u001b[1;32m     47\u001b[0m     \u001b[0;31m# compute sigular value decomposition\u001b[0m\u001b[0;34m\u001b[0m\u001b[0;34m\u001b[0m\u001b[0m\n",
      "\u001b[0;31mKeyboardInterrupt\u001b[0m: "
     ]
    }
   ],
   "source": [
    "def accuracy_check(a_1, a_2, sampling_methods):\n",
    "    for method in sampling_methods:\n",
    "        print(\"RMSE of {} method is {:.4}\".format(method, icp(a_1, a_2, point_selection = method, is_test = True, accuracy_check = True)))\n",
    "accuracy_check(a_1, a_2, sampling_methods)\n",
    "    "
   ]
  },
  {
   "cell_type": "code",
   "execution_count": 16,
   "metadata": {},
   "outputs": [
    {
     "name": "stdout",
     "output_type": "stream",
     "text": [
      "RMSE of random method is 0.1319, whereas if we add noise, it becomes 0.4216 , the difference is -0.2897\n",
      "The distance between normal and noisy R matrices is 0.4999 and between normal and noisy t vectors is 0.313\n",
      "RMSE of uniform method is 0.1455, whereas if we add noise, it becomes 0.4292 , the difference is -0.2836\n",
      "The distance between normal and noisy R matrices is 0.4932 and between normal and noisy t vectors is 0.4255\n",
      "RMSE of default method is 0.05849, whereas if we add noise, it becomes 0.2044 , the difference is -0.1459\n",
      "The distance between normal and noisy R matrices is 0.4828 and between normal and noisy t vectors is 0.4542\n"
     ]
    }
   ],
   "source": [
    "def  noise_check(a_1, a_2, sampling_methods):\n",
    "    noise_1, noise_2 = np.random.normal(0,1,(a_1.shape)) ,np.random.normal(0,1,(a_2.shape))\n",
    "    a_1_noisy, a_2_noisy = a_1 + noise_1 , a_2 + noise_2\n",
    "    for method in sampling_methods:\n",
    "        rmse_normal =icp(a_1, a_2, point_selection = method, is_test = True, accuracy_check = True) \n",
    "        rmse_noisy = icp(a_1_noisy, a_2_noisy, point_selection = method, is_test = True, accuracy_check = True)\n",
    "        print(\"RMSE of {} method is {:.4}, whereas if we add noise, it becomes {:.4} , the difference is {:.4}\".format(method, rmse_normal, rmse_noisy, rmse_normal - rmse_noisy))\n",
    "        R_normal , t_normal = icp(a_1, a_2, point_selection = method, is_test = True) \n",
    "        R_noisy , t_noisy = icp(a_1_noisy, a_2_noisy, point_selection = method, is_test = True) \n",
    "        R_distance, t_distance = np.linalg.norm(R_normal - R_noisy), np.linalg.norm(t_normal - t_noisy)\n",
    "        print(\"The distance between normal and noisy R matrices is {:.4} and between normal and noisy t vectors is {:.4}\".format(R_distance, t_distance))\n",
    "        \n",
    "\n",
    "noise_check(a_1, a_2, sampling_methods)\n",
    "    "
   ]
  },
  {
   "cell_type": "code",
   "execution_count": 17,
   "metadata": {},
   "outputs": [
    {
     "name": "stdout",
     "output_type": "stream",
     "text": [
      "RMSE of random method is 0.1279, whereas if we have random initialisation, it becomes 0.142 , the difference is -0.0141\n",
      "The distance between normal and randomely initialised R matrices is 23.84 and between normal and randomely initialised t vectors is 8.554\n",
      "RMSE of uniform method is 0.1345, whereas if we have random initialisation, it becomes 0.1289 , the difference is 0.005588\n",
      "The distance between normal and randomely initialised R matrices is 24.18 and between normal and randomely initialised t vectors is 15.35\n",
      "RMSE of default method is 0.05849, whereas if we have random initialisation, it becomes 0.05849 , the difference is 0.0\n",
      "The distance between normal and randomely initialised R matrices is 25.6 and between normal and randomely initialised t vectors is 10.1\n"
     ]
    }
   ],
   "source": [
    "def  stability_check(a_1, a_2, sampling_methods):\n",
    "    stability_constant = 10\n",
    "    for method in sampling_methods:\n",
    "        rmse_normal =icp(a_1, a_2, point_selection = method, is_test = True, accuracy_check = True) \n",
    "        rmse_non_stable= icp(a_1, a_2, point_selection = method, is_test = True, accuracy_check = True, stability_constant = stability_constant)\n",
    "        print(\"RMSE of {} method is {:.4}, whereas if we have random initialisation, it becomes {:.4} , the difference is {:.4}\".format(method, rmse_normal, rmse_non_stable, rmse_normal - rmse_non_stable))\n",
    "        R_normal , t_normal = icp(a_1, a_2, point_selection = method, is_test = True) \n",
    "        R_non_stable , t_non_stable = icp(a_1, a_2, point_selection = method, is_test = True, stability_constant = stability_constant) \n",
    "        R_distance, t_distance = np.linalg.norm(R_normal - R_non_stable), np.linalg.norm(t_normal - t_non_stable)\n",
    "        print(\"The distance between normal and randomely initialised R matrices is {:.4} and between normal and randomely initialised t vectors is {:.4}\".format(R_distance, t_distance))\n",
    "        \n",
    "\n",
    "stability_check(a_1, a_2, sampling_methods)\n",
    "    "
   ]
  },
  {
   "cell_type": "markdown",
   "metadata": {},
   "source": [
    "Note: Take stability as an example, an experimental setup may be the following: given a source point cloud, augmented target point cloud can be obtained by transforming the source point cloud using a random rigid transform R and t. Stability can be analyzed by observing a behaviour of ICP on source and augmented target point cloud w.r.t changes in magnitude of R and t.\n",
    "        "
   ]
  },
  {
   "cell_type": "markdown",
   "metadata": {},
   "source": [
    "- stability is about convergence of the algorithm dependent on initial condition.\n",
    "\n",
    "- tolerance to noise is about convergence of the algorithm with input data with noise. You can imagine data is captured by a sensor. In the ideal case you will obtain exact point cloud, however sensor is not precise, therefore there will be noise in measurement. Therefore we ask you to evaluate how ICP is robust against those kind of issuses."
   ]
  },
  {
   "cell_type": "code",
   "execution_count": null,
   "metadata": {},
   "outputs": [
    {
     "name": "stdout",
     "output_type": "stream",
     "text": [
      "Load a ply point cloud, print it, and render it\n"
     ]
    }
   ],
   "source": [
    "\n",
    "#merging scenes\n",
    "#icp(a_1, a_2, is_test = True)\n",
    "#pcd1  = open3d.read_point_cloud(\"Data/data/0000000000.pcd\")\n",
    "#pcd2  = open3d.read_point_cloud(\"Data/data/0000000001.pcd\")\n",
    "max_images = 99\n",
    "def merge_one_after_another(data_directory = \"Data/data/\", point_selection = 'random', max_images = 99):\n",
    "    print(\"Load a ply point cloud, print it, and render it\")\n",
    "    \n",
    "    pcds= []\n",
    "    for i in range(max_images+1):\n",
    "        if i<10:\n",
    "            pcds.append(open3d.read_point_cloud(\"{}000000000{}.pcd\".format(data_directory, i)).points)\n",
    "        else:\n",
    "            pcds.append(open3d.read_point_cloud(\"{}00000000{}.pcd\".format(data_directory, i)).points)\n",
    "    pcds = list(map(np.asarray, pcds))\n",
    "    \n",
    "    R_list,  t_list = [], []\n",
    "    for i in range(len(pcds)-1):\n",
    "        R, t = icp(pcds[i], pcds[i+1], is_test = True, point_selection = point_selection)\n",
    "        R_list.append(R)\n",
    "        t_list.append(t)\n",
    "    \n",
    "    pcds = list(map(background_removal, pcds))\n",
    "    pcds_transformed = []\n",
    "    \n",
    "    for i in range(len(pcds)-1):\n",
    "        pcds_transformed.append(affine_transform(pcds[i], R_list[i], t_list[i]))\n",
    "\n",
    "        \n",
    "    \n",
    "    show_fitting_result(pcds_transformed)\n",
    "merge_one_after_another(data_directory = \"Data/data/\", point_selection = 'random', max_images = 99)"
   ]
  },
  {
   "cell_type": "code",
   "execution_count": null,
   "metadata": {},
   "outputs": [],
   "source": [
    "import os\n",
    "import re\n",
    "\n",
    "def read_pcds_from_filenames(filenames):\n",
    "    \"\"\"\n",
    "    Read point clouds for given file names.\n",
    "    \"\"\"\n",
    "    return [open3d.read_point_cloud(f)for f in filenames]\n",
    "\n",
    "def affine_transform(pc, R, t):\n",
    "    return np.array([R.dot(a)+t for a in pc])\n",
    "    \n",
    "def background_removal(a_1):\n",
    "    valid_bool_1 = (a_1[:,2])<1\n",
    "    a_1 = a_1[valid_bool_1]\n",
    "    return a_1\n",
    "    \n",
    "    \n",
    "## Exercise 3.1\n",
    "def merging_scenes(frame_interval=1, point_selection='random', data_dir=\"./Data/data/\"):\n",
    "        \n",
    "    # Read all filenames for given directory\n",
    "    filenames = [data_dir+x for x in os.listdir(data_dir) if re.match(r\"00000000[0-9][0-9].pcd\",x)]\n",
    "    filenames.sort()\n",
    "    \n",
    "    # Get relevant filenames (according to frame_interval)\n",
    "    filenames=filenames[0::frame_interval]\n",
    "    \n",
    "    # Get point clouds for relevant filnames\n",
    "    pcds = read_pcds_from_filenames(filenames)\n",
    "    pcd_points = [background_removal(np.array(p.points)) for p in pcds]\n",
    "    \n",
    "    \n",
    "    # Tansform all frames back to zero-frame space \n",
    "    R_to_zero_current = np.eye(3)\n",
    "    t_to_zero_current = np.zeros(3)\n",
    "    transformed_points = []\n",
    "    \n",
    "    for i in range(1, len(pcd_points)):\n",
    "        \n",
    "        # Perform ICP\n",
    "        R,t = icp(pcd_points[i], pcd_points[i-1], is_test=True, point_selection=point_selection)\n",
    "        \n",
    "        # Update transformations back to zero frame\n",
    "        R_to_zero_current = R.dot(R_to_zero_current)\n",
    "        t_to_zero_current = R.dot(t_to_zero_current) + t\n",
    "        \n",
    "        # Project current PointCloud back to 0-frame space\n",
    "        \n",
    "        transformed_points += [affine_transform(pcd_points[i-1],R_to_zero_current,t_to_zero_current)]\n",
    "    \n",
    "    # Remove backgrounds in our pcds\n",
    "    # pcd_points = [background_removal(p) for p in pcd_points]\n",
    "    \n",
    "    \n",
    "    # Apply transformation to pcd\n",
    "    # pcd_points_transformed = [affine_transform(pcd_points[i],R_list[i], t_list[i]) \n",
    "                              #for i in range(len(pcd_points)-1)]\n",
    "    \n",
    "    #for i in range(len(pcds)):\n",
    "    #    pcds[i].points = pcd_points_transformed[i]\n",
    "        \n",
    "    show_fitting_result(transformed_points)\n",
    "    \n",
    "    \n",
    "merging_scenes(frame_interval=1)"
   ]
  },
  {
   "cell_type": "code",
   "execution_count": null,
   "metadata": {},
   "outputs": [],
   "source": []
  }
 ],
 "metadata": {
  "kernelspec": {
   "display_name": "Python 3",
   "language": "python",
   "name": "python3"
  },
  "language_info": {
   "codemirror_mode": {
    "name": "ipython",
    "version": 3
   },
   "file_extension": ".py",
   "mimetype": "text/x-python",
   "name": "python",
   "nbconvert_exporter": "python",
   "pygments_lexer": "ipython3",
   "version": "3.6.6"
  }
 },
 "nbformat": 4,
 "nbformat_minor": 2
}
