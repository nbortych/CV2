{
 "cells": [
  {
   "cell_type": "code",
   "execution_count": 135,
   "metadata": {},
   "outputs": [],
   "source": [
    "import numpy as np\n",
    "from scipy.io import loadmat\n",
    "import open3d\n",
    "import scipy\n",
    "from scipy.spatial import distance\n",
    "\n",
    "def rigid_motion(p,q):\n",
    "    \"\"\"\n",
    "    Least-Squares Rigid Motion Using Singular Value Decomposition. \n",
    "    (https://igl.ethz.ch/projects/ARAP/svd_rot.pdf) \n",
    "    \n",
    "    (note: so far only for the easy case, where all weights are = 1)\n",
    "    \n",
    "    p,q: shape [num_points, 3]\n",
    "    \n",
    "    \"\"\"\n",
    "    n,d = p.shape\n",
    "    \n",
    "    # compute centroids\n",
    "    p_cen = sum(p)/len(p)\n",
    "    q_cen = sum(q)/len(q)\n",
    "    \n",
    "    # compute centered vectors\n",
    "    X = np.array([i-p_cen for i in p])\n",
    "    Y = np.array([i-q_cen for i in q])\n",
    "    \n",
    "    # compute covariance matrix \n",
    "    W = np.eye(n)\n",
    "    S =  X.T.dot(W).dot(Y)\n",
    "    \n",
    "    # compute sigular value decomposition\n",
    "    U, _, V = np.linalg.svd(S)\n",
    "    \n",
    "    # compute optimal R and t\n",
    "    M = np.eye(d)\n",
    "    M[-1,-1] = np.linalg.det(V.dot(U.T))\n",
    "    R = V.dot(M).dot(U.T)\n",
    "    \n",
    "    t = q_cen - R.dot(p_cen)\n",
    "    \n",
    "    return R, t\n",
    "    "
   ]
  },
  {
   "cell_type": "code",
   "execution_count": 102,
   "metadata": {},
   "outputs": [],
   "source": [
    "# print(\"Load a ply point cloud, print it, and render it\")\n",
    "# pcd1  = open3d.read_point_cloud(\"Data/data/0000000000.pcd\")\n",
    "# pcd2  = open3d.read_point_cloud(\"Data/data/0000000001.pcd\")\n",
    "# print(np.asarray(pcd.points))\n",
    "# open3d.draw_geometries([pcd])\n",
    "a_1 = loadmat(\"Data/source.mat\")[\"source\"].T\n",
    "a_2 = loadmat(\"Data/target.mat\")[\"target\"].T"
   ]
  },
  {
   "cell_type": "code",
   "execution_count": null,
   "metadata": {},
   "outputs": [],
   "source": []
  },
  {
   "cell_type": "code",
   "execution_count": null,
   "metadata": {
    "scrolled": true
   },
   "outputs": [
    {
     "name": "stdout",
     "output_type": "stream",
     "text": [
      "7.847178869938536\n",
      "6.034980464688789\n",
      "6.243586654593772\n",
      "5.995267518771472\n",
      "5.979234335289667\n",
      "5.490952687967517\n",
      "5.064767260627452\n",
      "3.9096597718726533\n",
      "2.687111657152096\n"
     ]
    }
   ],
   "source": [
    "def rms_error(p, q):\n",
    "    # TODO: This error calculation right?\n",
    "    n = p.shape[0]\n",
    "    dist = [distance.euclidean(p[i,:], q[i,:]) for i in range(n)]\n",
    "    return sum(np.power(dist, 2))/n\n",
    "\n",
    "def icd(a_1, a_2, max_it=20):\n",
    "    \"\"\"\n",
    "    a_1: positions of points in point cloud 1. shape : [num_points1, 3]\n",
    "    a_2: positions of points in point cloud 2. shape : [num_points2, 3]\n",
    "    \n",
    "    \"\"\"\n",
    "    n,d = a_1.shape\n",
    "    \n",
    "    # Filter the point clouds based on the depth,\n",
    "    # only keep the indices where the z of the point cloud is less than 1\n",
    "    valid_bool_1 = (a_1[:,2])<1\n",
    "    valid_bool_2 = (a_2[:,2])<1\n",
    "    a_1 = a_1[valid_bool_1]\n",
    "    a_2 = a_2[valid_bool_2]\n",
    "    \n",
    "    R_overall = np.eye(d)\n",
    "    t_overall = np.zeros(d)\n",
    "    \n",
    "    # TODO: Base loop on difference in rsm error\n",
    "    #rms_error_old = 999999999\n",
    "    #rms_error_new = rms_error_old-1\n",
    "    for _ in range(max_it):\n",
    "            \n",
    "        # (Step 1) Find closest points for each point in a_1 from a_2\n",
    "        tree = scipy.spatial.KDTree(a_2)\n",
    "        closest_dists, closest_idx = tree.query(a_1)\n",
    "        # Found this on stackoverflow: https://bit.ly/2P8IYiw\n",
    "        # Not sure if we can use this, but it is definetely much (!!) faster \n",
    "        # than manually comparing all the vectors.\n",
    "        # Usage also proposed on Wikipedia: https://bit.ly/2urg9nU\n",
    "        # For how-to-use see: https://bit.ly/2UbKNfn\n",
    "        closest_a_2 = a_2[closest_idx]\n",
    "    \n",
    "        # (Step 2) Refine R and t using Singular Value Decomposition\n",
    "        R, t = rigid_motion(a_1,closest_a_2)\n",
    "       \n",
    "        # update a_1\n",
    "        a_1 = np.array([R.dot(a)+t for a in a_1])\n",
    "        \n",
    "        # update rms error\n",
    "        # rms_error_old = rms_error_new\n",
    "        rms_error_new = rms_error(a_1, closest_a_2)\n",
    "        print(rms_error_new)\n",
    "        \n",
    "        # update overall R and t\n",
    "        # R_overall = R.dot(R_overall)\n",
    "        # t_overall = R.dot(t_overall) + t\n",
    "        \n",
    "icd(a_1, a_2)"
   ]
  },
  {
   "cell_type": "code",
   "execution_count": null,
   "metadata": {},
   "outputs": [],
   "source": []
  },
  {
   "cell_type": "code",
   "execution_count": null,
   "metadata": {},
   "outputs": [],
   "source": []
  },
  {
   "cell_type": "code",
   "execution_count": null,
   "metadata": {},
   "outputs": [],
   "source": []
  },
  {
   "cell_type": "code",
   "execution_count": null,
   "metadata": {},
   "outputs": [],
   "source": []
  },
  {
   "cell_type": "code",
   "execution_count": null,
   "metadata": {},
   "outputs": [],
   "source": []
  },
  {
   "cell_type": "code",
   "execution_count": null,
   "metadata": {},
   "outputs": [],
   "source": []
  },
  {
   "cell_type": "code",
   "execution_count": null,
   "metadata": {},
   "outputs": [],
   "source": []
  },
  {
   "cell_type": "code",
   "execution_count": null,
   "metadata": {},
   "outputs": [],
   "source": []
  },
  {
   "cell_type": "code",
   "execution_count": null,
   "metadata": {},
   "outputs": [],
   "source": []
  },
  {
   "cell_type": "code",
   "execution_count": null,
   "metadata": {},
   "outputs": [],
   "source": []
  }
 ],
 "metadata": {
  "kernelspec": {
   "display_name": "Python 3",
   "language": "python",
   "name": "python3"
  },
  "language_info": {
   "codemirror_mode": {
    "name": "ipython",
    "version": 3
   },
   "file_extension": ".py",
   "mimetype": "text/x-python",
   "name": "python",
   "nbconvert_exporter": "python",
   "pygments_lexer": "ipython3",
   "version": "3.6.7"
  }
 },
 "nbformat": 4,
 "nbformat_minor": 2
}
