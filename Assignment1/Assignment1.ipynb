{
 "cells": [
  {
   "cell_type": "code",
   "execution_count": 25,
   "metadata": {},
   "outputs": [
    {
     "name": "stdout",
     "output_type": "stream",
     "text": [
      "Collecting open3d-python\n",
      "  Downloading https://files.pythonhosted.org/packages/ad/88/550df9de4efdd33120284f76b9b14224f8267f0144a0c57af00b36569591/open3d_python-0.6.0.0-cp36-cp36m-macosx_10_7_x86_64.whl (3.3MB)\n",
      "\u001b[K    100% |████████████████████████████████| 3.3MB 493kB/s eta 0:00:01\n",
      "\u001b[?25hRequirement already satisfied: numpy in /Users/nikitabortych/anaconda/lib/python3.6/site-packages (from open3d-python)\n",
      "Requirement already satisfied: notebook in /Users/nikitabortych/anaconda/lib/python3.6/site-packages (from open3d-python)\n",
      "Requirement already satisfied: widgetsnbextension in /Users/nikitabortych/anaconda/lib/python3.6/site-packages (from open3d-python)\n",
      "Requirement already satisfied: ipywidgets in /Users/nikitabortych/anaconda/lib/python3.6/site-packages (from open3d-python)\n",
      "Installing collected packages: open3d-python\n",
      "Successfully installed open3d-python-0.6.0.0\n",
      "\u001b[33mYou are using pip version 9.0.1, however version 19.0.3 is available.\n",
      "You should consider upgrading via the 'pip install --upgrade pip' command.\u001b[0m\n"
     ]
    }
   ],
   "source": [
    "import numpy as np\n",
    "from scipy.io import loadmat\n",
    "!pip install open3d-python\n",
    "import open3d"
   ]
  },
  {
   "cell_type": "code",
   "execution_count": 23,
   "metadata": {},
   "outputs": [
    {
     "data": {
      "text/plain": [
       "array([[-7.0906661e-02, -8.5087997e-01,  2.6589999e+00,  1.5581775e-38],\n",
       "       [-6.0319997e-02, -8.4447998e-01,  2.6389999e+00,  1.4844215e-38],\n",
       "       [-5.0266664e-02, -8.4447998e-01,  2.6389999e+00,  1.2354580e-38],\n",
       "       ...,\n",
       "       [ 1.1858714e+01,  2.7836773e+01,  6.5535004e+01,  1.9437768e-38],\n",
       "       [ 1.4355287e+01,  2.7836773e+01,  6.5535004e+01,  1.1787704e-38],\n",
       "       [ 1.4854601e+01,  2.7836773e+01,  6.5535004e+01,  1.4834109e-38]])"
      ]
     },
     "execution_count": 23,
     "metadata": {},
     "output_type": "execute_result"
    }
   ],
   "source": [
    "source = loadmat(\"Data/source.mat\")\n",
    "target = loadmat(\"Data/target.mat\")\n",
    "source['source'].shape\n",
    "target['target'].shape\n",
    "np.genfromtxt(\"Data/data/0000000000.pcd\", delimiter='', skip_header=11) "
   ]
  },
  {
   "cell_type": "code",
   "execution_count": 28,
   "metadata": {},
   "outputs": [
    {
     "name": "stdout",
     "output_type": "stream",
     "text": [
      "Load a ply point cloud, print it, and render it\n",
      "geometry::PointCloud with 68742 points.\n",
      "[[-7.0906661e-02 -8.5087997e-01  2.6589999e+00]\n",
      " [-6.0319997e-02 -8.4447998e-01  2.6389999e+00]\n",
      " [-5.0266664e-02 -8.4447998e-01  2.6389999e+00]\n",
      " ...\n",
      " [ 1.1858714e+01  2.7836773e+01  6.5535004e+01]\n",
      " [ 1.4355287e+01  2.7836773e+01  6.5535004e+01]\n",
      " [ 1.4854601e+01  2.7836773e+01  6.5535004e+01]]\n"
     ]
    }
   ],
   "source": [
    "print(\"Load a ply point cloud, print it, and render it\")\n",
    "pcd = open3d.read_point_cloud(\"Data/data/0000000000.pcd\")\n",
    "print(pcd)\n",
    "print(np.asarray(pcd.points))\n",
    "open3d.draw_geometries([pcd])"
   ]
  },
  {
   "cell_type": "code",
   "execution_count": 31,
   "metadata": {},
   "outputs": [],
   "source": [
    "R = np.eye(10)\n",
    "t = 0"
   ]
  }
 ],
 "metadata": {
  "kernelspec": {
   "display_name": "Python 3",
   "language": "python",
   "name": "python3"
  },
  "language_info": {
   "codemirror_mode": {
    "name": "ipython",
    "version": 3
   },
   "file_extension": ".py",
   "mimetype": "text/x-python",
   "name": "python",
   "nbconvert_exporter": "python",
   "pygments_lexer": "ipython3",
   "version": "3.6.6"
  }
 },
 "nbformat": 4,
 "nbformat_minor": 2
}
