{
 "cells": [
  {
   "cell_type": "code",
   "execution_count": 1,
   "metadata": {},
   "outputs": [
    {
     "name": "stdout",
     "output_type": "stream",
     "text": [
      "Requirement already satisfied: cmake in /Users/nikitabortych/anaconda/lib/python3.6/site-packages (3.13.3)\n",
      "\u001b[33mYou are using pip version 19.0.3, however version 19.1.1 is available.\n",
      "You should consider upgrading via the 'pip install --upgrade pip' command.\u001b[0m\n",
      "Requirement already satisfied: dlib in /Users/nikitabortych/anaconda/lib/python3.6/site-packages (19.17.0)\n",
      "\u001b[33mYou are using pip version 19.0.3, however version 19.1.1 is available.\n",
      "You should consider upgrading via the 'pip install --upgrade pip' command.\u001b[0m\n"
     ]
    }
   ],
   "source": [
    "import torch\n",
    "from torch.autograd import Variable\n",
    "!pip install cmake\n",
    "!pip install dlib\n",
    "from landmarks import detect_landmark\n",
    "import numpy as np\n",
    "import matplotlib.pyplot as plt\n",
    "!pip install opencv-python\n",
    "import cv2"
   ]
  },
  {
   "cell_type": "code",
   "execution_count": 3,
   "metadata": {},
   "outputs": [
    {
     "name": "stdout",
     "output_type": "stream",
     "text": [
      "<class 'numpy.ndarray'>\n"
     ]
    }
   ],
   "source": [
    "#input image\n",
    "image = cv2.imread('in.png')\n",
    "\n",
    "img = cv2.cvtColor(image, cv2.COLOR_BGR2GRAY)\n",
    "\n",
    "#get landmarks\n",
    "shape = detect_landmark(img)"
   ]
  },
  {
   "cell_type": "code",
   "execution_count": 4,
   "metadata": {},
   "outputs": [
    {
     "data": {
      "text/plain": [
       "48"
      ]
     },
     "execution_count": 4,
     "metadata": {},
     "output_type": "execute_result"
    }
   ],
   "source": [
    "# and draw them on the image\n",
    "for (x, y) in shape:\n",
    "    cv2.circle(img, (x, y), 2, (0, 0, 255), -1)\n",
    "cv2.imshow(\"Output\", img)\n",
    "cv2.waitKey(0)"
   ]
  },
  {
   "cell_type": "code",
   "execution_count": 14,
   "metadata": {},
   "outputs": [
    {
     "data": {
      "text/plain": [
       "[16214,\n",
       " 16229,\n",
       " 16248,\n",
       " 16270,\n",
       " 16295,\n",
       " 25899,\n",
       " 26351,\n",
       " 26776,\n",
       " 27064,\n",
       " 27352,\n",
       " 27790,\n",
       " 28275,\n",
       " 22486,\n",
       " 22462,\n",
       " 22440,\n",
       " 22422,\n",
       " 22406,\n",
       " 17471,\n",
       " 22988,\n",
       " 23398,\n",
       " 23613,\n",
       " 23834,\n",
       " 8800,\n",
       " 24358,\n",
       " 24575,\n",
       " 24934,\n",
       " 19912,\n",
       " 8108,\n",
       " 8135,\n",
       " 8148,\n",
       " 8156,\n",
       " 6389,\n",
       " 7341,\n",
       " 8168,\n",
       " 8993,\n",
       " 9938,\n",
       " 2218,\n",
       " 4275,\n",
       " 5049,\n",
       " 5962,\n",
       " 4803,\n",
       " 4025,\n",
       " 10014,\n",
       " 11030,\n",
       " 11674,\n",
       " 13100,\n",
       " 11943,\n",
       " 11299,\n",
       " 5263,\n",
       " 6024,\n",
       " 7354,\n",
       " 8180,\n",
       " 8770,\n",
       " 9954,\n",
       " 10727,\n",
       " 9139,\n",
       " 8551,\n",
       " 8198,\n",
       " 7726,\n",
       " 7137,\n",
       " 6295,\n",
       " 7480,\n",
       " 8188,\n",
       " 8778,\n",
       " 10337,\n",
       " 8546,\n",
       " 8192,\n",
       " 7838]"
      ]
     },
     "execution_count": 14,
     "metadata": {},
     "output_type": "execute_result"
    }
   ],
   "source": [
    "#import l\n",
    "with open('Landmarks68_model2017-1_face12_nomouth.anl', 'r') as f:\n",
    "    data = f.read()\n",
    "data = list(map(int, data.split('\\n')[:-1]))\n",
    "data"
   ]
  },
  {
   "cell_type": "code",
   "execution_count": 5,
   "metadata": {},
   "outputs": [
    {
     "name": "stdout",
     "output_type": "stream",
     "text": [
      "Initial A =  tensor([[1., 1., 1., 1., 1., 1., 1., 1., 1., 1.]], requires_grad=True)\n",
      "Answer: A =  tensor([[4.3297, 4.3297, 4.3297, 4.3297, 4.3297, 4.3297, 4.3297, 4.3297, 4.3297,\n",
      "         4.3297]], requires_grad=True)\n"
     ]
    }
   ],
   "source": [
    "lr = 0.1\n",
    "A = Variable(torch.ones(1, 10), requires_grad=True)\n",
    "print('Initial A = ', A)\n",
    "opt = torch.optim.Adam([A], lr=lr)\n",
    "\n",
    "for i in range(100):\n",
    "    opt.zero_grad()\n",
    "    loss = torch.sum((A - 10) ** 10)\n",
    "    loss.backward()\n",
    "    opt.step()\n",
    "print(\"Answer: A = \", A)"
   ]
  }
 ],
 "metadata": {
  "kernelspec": {
   "display_name": "Python 3",
   "language": "python",
   "name": "python3"
  },
  "language_info": {
   "codemirror_mode": {
    "name": "ipython",
    "version": 3
   },
   "file_extension": ".py",
   "mimetype": "text/x-python",
   "name": "python",
   "nbconvert_exporter": "python",
   "pygments_lexer": "ipython3",
   "version": "3.6.6"
  }
 },
 "nbformat": 4,
 "nbformat_minor": 2
}
