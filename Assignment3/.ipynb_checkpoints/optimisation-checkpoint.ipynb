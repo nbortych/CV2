{
 "cells": [
  {
   "cell_type": "code",
   "execution_count": 1,
   "metadata": {},
   "outputs": [
    {
     "name": "stdout",
     "output_type": "stream",
     "text": [
      "Initial A =  tensor([[1., 1., 1., 1., 1., 1., 1., 1., 1., 1.]], requires_grad=True)\n",
      "Answer: A =  tensor([[4.3297, 4.3297, 4.3297, 4.3297, 4.3297, 4.3297, 4.3297, 4.3297, 4.3297,\n",
      "         4.3297]], requires_grad=True)\n"
     ]
    }
   ],
   "source": [
    "import torch\n",
    "from torch.autograd import Variable\n",
    "from landmarks import detect_landmark\n",
    "import numpy as np\n",
    "import matplotlib.pyplot as plt"
   ]
  },
  {
   "cell_type": "code",
   "execution_count": null,
   "metadata": {},
   "outputs": [],
   "source": [
    "lr = 0.1\n",
    "A = Variable(torch.ones(1, 10), requires_grad=True)\n",
    "print('Initial A = ', A)\n",
    "opt = torch.optim.Adam([A], lr=lr)\n",
    "\n",
    "for i in range(100):\n",
    "    opt.zero_grad()\n",
    "    loss = torch.sum((A - 10) ** 10)\n",
    "    loss.backward()\n",
    "    opt.step()\n",
    "print(\"Answer: A = \", A)"
   ]
  }
 ],
 "metadata": {
  "kernelspec": {
   "display_name": "Python 3",
   "language": "python",
   "name": "python3"
  },
  "language_info": {
   "codemirror_mode": {
    "name": "ipython",
    "version": 3
   },
   "file_extension": ".py",
   "mimetype": "text/x-python",
   "name": "python",
   "nbconvert_exporter": "python",
   "pygments_lexer": "ipython3",
   "version": "3.6.6"
  }
 },
 "nbformat": 4,
 "nbformat_minor": 2
}
